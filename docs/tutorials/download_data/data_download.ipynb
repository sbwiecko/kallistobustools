{
  "cells": [
    {
      "cell_type": "markdown",
      "metadata": {
        "colab_type": "text",
        "id": "view-in-github"
      },
      "source": [
        "<a href=\"https://colab.research.google.com/github/pachterlab/kallistobustools/blob/master/tutorials/docs/tutorials/download_data/data_download.ipynb\" target=\"_parent\"><img src=\"https://colab.research.google.com/assets/colab-badge.svg\" alt=\"Open In Colab\"/></a>"
      ]
    },
    {
      "cell_type": "markdown",
      "metadata": {
        "id": "H9HtwybL6w6E"
      },
      "source": [
        "# Data downloading\n",
        "\n",
        "This tutorial provides information on where to find single-cell RNA-seq data, and how to download it for processing with the **kallisto | bustools** workflow."
      ]
    },
    {
      "cell_type": "markdown",
      "metadata": {
        "id": "iBBuVqLS66Ef"
      },
      "source": [
        "## Databases\n",
        "\n",
        "There are multiple databases that are important repositories for sequencing data and metadata, and that are relevant for obtaining single-cell RNA-seq data. For each archive we provide an example of how the data is organized and how to download it.\n",
        "\n",
        "* **[Biological Project Library](https://bigd.big.ac.cn/bioproject/)** (BioProject): The Biological Project Library organizes metadata for research projects involving genomic data types. This repository, which was started in 2016, is similar to the Gene Expression Omnibus. As an example, the data from the paper [Peng et al. 2019](https://www.nature.com/articles/s41422-019-0195-y) is organized under project accession [PRJCA001063](https://bigd.big.ac.cn/bioproject/browse/PRJCA001063). Each single-cell RNA-seq dataset has a “BioSample accession”, e.g. [SAMC047103](https://bigd.big.ac.cn/biosample/browse/SAMC047103). A further link to the Genome Sequencing Archive provides access to FASTQ files.\n",
        "\n",
        "* **[Genome Sequence Archive](http://gsa.big.ac.cn/)** (GSA): This repository contains reads for projects in FASTQ format. For example, reads for [SAMC047103](https://bigd.big.ac.cn/biosample/browse/SAMC047103) from the [PRJCA001063](https://bigd.big.ac.cn/bioproject/browse/PRJCA001063) in the BioProject repository are accessible under accession [CRA001160](https://bigd.big.ac.cn/gsa/browse/CRA001160). A specific run accession, e.g. [CRR034516](https://bigd.big.ac.cn/gsa/browse/CRA001160/CRR034516) provides direct access to FASTQ files.\n",
        "\n",
        "* **[Gene Expression Omnibus](https://www.ncbi.nlm.nih.gov/geo/)** (GEO): The Gene Expression Omnibus is a repository for [MIAME (Minimum Infomration about a Microarray Experiment)](https://www.ncbi.nlm.nih.gov/geo/info/MIAME.html) compliant data. While the MIAME standards were established during a time when gene expression data was primarily collected with microarrays, the standards also apply to sequencing data and the GEO repository hosts project metadata for both types of research projects. As an example, the project link for the paper [Wolock et al. 2019](https://www.sciencedirect.com/science/article/pii/S2211124719307971) is [GSE132151](https://www.ncbi.nlm.nih.gov/geo/query/acc.cgi?acc=GSE132151). Most papers refer to their data via GEO accessions, so GEO is a useful repository for searching for data from projects.\n",
        "\n",
        "* **[European Nucelotide Archive](https://www.ebi.ac.uk/ena)** (ENA): The ENA provides access to nucleotide sequences associated with genomic projects. In the case of [GSE132151](https://www.ncbi.nlm.nih.gov/geo/query/acc.cgi?acc=GSE132151) mentioned above, the nucleotide sequences are at [PRJNA546231](https://www.ebi.ac.uk/ena/data/view/PRJNA546231). The ENA provides direct access to FASTQ files from the project page. It also links to NCBI Sequence Read Archive format data.\n",
        "\n",
        "* **[Sequence Read Archive](https://www.ncbi.nlm.nih.gov/sra)** (SRA): The SRA is a sequence repository for genomic data. Files are stored in SRA format, which must be downloaded and converted to FASTQ format prior to pre-processing using the `fasterq-dump` program available as part of [SRA tools](https://github.com/ncbi/sra-tools/wiki/HowTo:-fasterq-dump). For example, the data in [Rossi et al., 2019](https://science.sciencemag.org/content/364/6447/1271) can be located in the SRA via [GEO](https://www.ncbi.nlm.nih.gov/geo/query/acc.cgi?acc=GSE130597), then to the [SRA](https://www.ncbi.nlm.nih.gov/sra?term=SRP194426), and finally a sequence data page for one of the runs, [SRX5779290](https://trace.ncbi.nlm.nih.gov/Traces/sra/?run=SRR9000493) has information about the traces (reads). The SRA tools operate directly on SRA accessions."
      ]
    },
    {
      "cell_type": "markdown",
      "metadata": {
        "id": "tYGNjUdO8JFr"
      },
      "source": [
        "## Searching\n",
        "\n",
        "The [sra-explorer](https://ewels.github.io/sra-explorer/) website is an effective and easy to use utility for searching the SRA and for downloading files. The utility finds SRA entires by keywords or accession numbers and produces links to the FASTQs and to commands for downloading them."
      ]
    },
    {
      "cell_type": "markdown",
      "metadata": {
        "id": "u14ERaW38Z6u"
      },
      "source": [
        "## Streaming\n",
        "\n",
        "Single-cell RNA-seq data from sequence repositories can be streamed into `kb` making possible a workflow that does not require saving files to disk prior to pre-processing. For example, the following command can be used to stream data from the a URL:\n",
        "\n",
        "__Note__: Streaming is not supported on Windows."
      ]
    },
    {
      "cell_type": "markdown",
      "metadata": {
        "id": "C-BNdo7Y9RGG"
      },
      "source": [
        "### Install `kb`"
      ]
    },
    {
      "cell_type": "code",
      "execution_count": 1,
      "metadata": {
        "colab": {
          "base_uri": "https://localhost:8080/"
        },
        "id": "fIP2HqRI9HEn",
        "outputId": "8bc0b830-6fd9-47db-cfcc-ab5709baa9d5"
      },
      "outputs": [],
      "source": [
        "!pip install --quiet kb-python"
      ]
    },
    {
      "cell_type": "markdown",
      "metadata": {
        "id": "QdNNQVMN9S7z"
      },
      "source": [
        "### Download a pre-built mouse index\n",
        "\n",
        "The only required file that must be locally stored on disk prior to pre-processing is the index, which is why we download it here."
      ]
    },
    {
      "cell_type": "code",
      "execution_count": 2,
      "metadata": {
        "colab": {
          "base_uri": "https://localhost:8080/"
        },
        "id": "Kmi-uBrV9JWb",
        "outputId": "ab02633a-a23a-472b-8b20-80f1e35dd74e"
      },
      "outputs": [
        {
          "name": "stdout",
          "output_type": "stream",
          "text": [
            "[2022-11-29 14:00:38,295]    INFO Downloading files for mouse from https://caltech.box.com/shared/static/vcaz6cujop0xuapdmz0pplp3aoqc41si.gz to tmp/vcaz6cujop0xuapdmz0pplp3aoqc41si.gz\n",
            "[2022-11-29 14:03:43,134]    INFO Extracting files from tmp/vcaz6cujop0xuapdmz0pplp3aoqc41si.gz\n",
            "CPU times: user 5.32 s, sys: 1.62 s, total: 6.94 s\n",
            "Wall time: 3min 36s\n"
          ]
        }
      ],
      "source": [
        "%%time\n",
        "!kb ref -d mouse -i index.idx -g t2g.txt"
      ]
    },
    {
      "cell_type": "code",
      "execution_count": 4,
      "metadata": {
        "colab": {
          "base_uri": "https://localhost:8080/"
        },
        "id": "bdIMdXLl9odK",
        "outputId": "b94ea2eb-f20b-4010-cd80-2fe61c6012c2"
      },
      "outputs": [
        {
          "name": "stdout",
          "output_type": "stream",
          "text": [
            "[2022-11-29 14:05:48,504]    INFO Piping https://caltech.box.com/shared/static/w9ww8et5o029s2e3usjzpbq8lpot29rh.gz to tmp/w9ww8et5o029s2e3usjzpbq8lpot29rh.gz\n",
            "[2022-11-29 14:05:48,505]    INFO Piping https://caltech.box.com/shared/static/ql00zyvqnpy7bf8ogdoe9zfy907guzy9.gz to tmp/ql00zyvqnpy7bf8ogdoe9zfy907guzy9.gz\n",
            "[2022-11-29 14:05:48,506]    INFO Generating BUS file from\n",
            "[2022-11-29 14:05:48,506]    INFO         tmp/w9ww8et5o029s2e3usjzpbq8lpot29rh.gz\n",
            "[2022-11-29 14:05:48,506]    INFO         tmp/ql00zyvqnpy7bf8ogdoe9zfy907guzy9.gz\n",
            "[2022-11-29 14:07:26,164]    INFO Sorting BUS file ./output.bus to tmp/output.s.bus\n",
            "[2022-11-29 14:07:27,645]    INFO Whitelist not provided\n",
            "[2022-11-29 14:07:27,646]    INFO Copying pre-packaged 10XV2 whitelist to .\n",
            "[2022-11-29 14:07:27,713]    INFO Inspecting BUS file tmp/output.s.bus\n",
            "[2022-11-29 14:07:29,288]    INFO Correcting BUS records in tmp/output.s.bus to tmp/output.s.c.bus with whitelist ./10xv2_whitelist.txt\n",
            "[2022-11-29 14:07:49,063]    INFO Sorting BUS file tmp/output.s.c.bus to ./output.unfiltered.bus\n",
            "[2022-11-29 14:07:50,824]    INFO Generating count matrix ./counts_unfiltered/cells_x_genes from BUS file ./output.unfiltered.bus\n",
            "[2022-11-29 14:07:53,497]    INFO Converting matrix ./counts_unfiltered/cells_x_genes.mtx to h5ad ./counts_unfiltered/adata.h5ad\n",
            "/home/sebastien/kallistobustools/.env_scanpy/lib/python3.8/site-packages/kb_python/utils.py:347: FutureWarning: X.dtype being converted to np.float32 from float64. In the next version of anndata (0.9) conversion will not be automatic. Pass dtype explicitly to avoid this warning. Pass `AnnData(X, dtype=X.dtype, ...)` to get the future behavour.\n",
            "  return anndata.AnnData(\n",
            "CPU times: user 2.8 s, sys: 856 ms, total: 3.65 s\n",
            "Wall time: 2min 8s\n"
          ]
        }
      ],
      "source": [
        "%%time\n",
        "!kb count -i index.idx -g t2g.txt -x 10xv2 --h5ad -t 8 \\\n",
        "https://caltech.box.com/shared/static/w9ww8et5o029s2e3usjzpbq8lpot29rh.gz \\\n",
        "https://caltech.box.com/shared/static/ql00zyvqnpy7bf8ogdoe9zfy907guzy9.gz"
      ]
    },
    {
      "cell_type": "markdown",
      "metadata": {},
      "source": [
        "Interestingly, it took twice as long to pseudocoount the data streamed (ca. 2 min 10 s) compared to locally (ca. 50 s), so the limiting factor is the downloading step."
      ]
    }
  ],
  "metadata": {
    "colab": {
      "collapsed_sections": [],
      "include_colab_link": true,
      "name": "data_download.ipynb",
      "provenance": []
    },
    "kernelspec": {
      "display_name": "Python 3.8.10 ('.env_scanpy': venv)",
      "language": "python",
      "name": "python3"
    },
    "language_info": {
      "codemirror_mode": {
        "name": "ipython",
        "version": 3
      },
      "file_extension": ".py",
      "mimetype": "text/x-python",
      "name": "python",
      "nbconvert_exporter": "python",
      "pygments_lexer": "ipython3",
      "version": "3.8.10"
    },
    "vscode": {
      "interpreter": {
        "hash": "33c785c169f84a1543f90bb4bcc7f27e9f0c02e4da65dcf13ce9dba98c1da710"
      }
    }
  },
  "nbformat": 4,
  "nbformat_minor": 0
}
